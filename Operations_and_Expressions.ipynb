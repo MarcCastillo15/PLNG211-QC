{
  "nbformat": 4,
  "nbformat_minor": 0,
  "metadata": {
    "colab": {
      "provenance": [],
      "authorship_tag": "ABX9TyOLWGBSvzkKZBCT1a4onlrK",
      "include_colab_link": true
    },
    "kernelspec": {
      "name": "python3",
      "display_name": "Python 3"
    },
    "language_info": {
      "name": "python"
    }
  },
  "cells": [
    {
      "cell_type": "markdown",
      "metadata": {
        "id": "view-in-github",
        "colab_type": "text"
      },
      "source": [
        "<a href=\"https://colab.research.google.com/github/MarcNazareneCastillo/PLNG211-QC/blob/main/Operations_and_Expressions.ipynb\" target=\"_parent\"><img src=\"https://colab.research.google.com/assets/colab-badge.svg\" alt=\"Open In Colab\"/></a>"
      ]
    },
    {
      "cell_type": "markdown",
      "source": [
        "Boolean Operators."
      ],
      "metadata": {
        "id": "RpYFZxyrhmmR"
      }
    },
    {
      "cell_type": "code",
      "source": [
        "a=10\n",
        "b=9\n",
        "print(10>9)\n",
        "print(10<9)\n",
        "print(10==9)\n",
        "print(a!=b)\n"
      ],
      "metadata": {
        "colab": {
          "base_uri": "https://localhost:8080/"
        },
        "id": "SS8l1u98hqFv",
        "outputId": "35b13a72-2a11-4249-8d31-3f4f1bd6e5cd"
      },
      "execution_count": 7,
      "outputs": [
        {
          "output_type": "stream",
          "name": "stdout",
          "text": [
            "True\n",
            "False\n",
            "False\n",
            "True\n"
          ]
        }
      ]
    },
    {
      "cell_type": "markdown",
      "source": [
        "Bool() Function"
      ],
      "metadata": {
        "id": "An98ooBDjGNR"
      }
    },
    {
      "cell_type": "code",
      "source": [
        "print(bool(15))\n",
        "print(bool(\"Maria\"))\n",
        "\n",
        "print(bool(0))\n",
        "print(bool(None))\n",
        "print(bool(False))"
      ],
      "metadata": {
        "colab": {
          "base_uri": "https://localhost:8080/"
        },
        "id": "jY6ZT6a5jJVe",
        "outputId": "cc6ee7c4-664d-4035-8d80-3ca62b70188b"
      },
      "execution_count": 14,
      "outputs": [
        {
          "output_type": "stream",
          "name": "stdout",
          "text": [
            "True\n",
            "True\n",
            "False\n",
            "False\n",
            "False\n"
          ]
        }
      ]
    },
    {
      "cell_type": "markdown",
      "source": [
        "Function that returns a Boolean"
      ],
      "metadata": {
        "id": "eiYVqvXyj1Nm"
      }
    },
    {
      "cell_type": "code",
      "source": [
        "def myFunction():\n",
        "  return True\n",
        "\n",
        "if(myFunction()):\n",
        "  print(\"Yes!\")\n",
        "else:\n",
        "  print(\"No!\")"
      ],
      "metadata": {
        "colab": {
          "base_uri": "https://localhost:8080/"
        },
        "id": "4O1CdXuPj6eB",
        "outputId": "8e1db019-5312-42d3-c861-0589b3309b0f"
      },
      "execution_count": 20,
      "outputs": [
        {
          "output_type": "stream",
          "name": "stdout",
          "text": [
            "Yes!\n"
          ]
        }
      ]
    },
    {
      "cell_type": "markdown",
      "source": [
        "Application 1"
      ],
      "metadata": {
        "id": "eMKpXHF0lWVT"
      }
    },
    {
      "cell_type": "code",
      "source": [
        "c=6                 #110 Binary\n",
        "d=7                 #111 Binary\n",
        "print(c==d)\n",
        "print(c!=c)"
      ],
      "metadata": {
        "colab": {
          "base_uri": "https://localhost:8080/"
        },
        "id": "JRMqIPUplX1S",
        "outputId": "e54051a8-4de6-4390-e285-17e85e61c089"
      },
      "execution_count": 24,
      "outputs": [
        {
          "output_type": "stream",
          "name": "stdout",
          "text": [
            "False\n",
            "False\n"
          ]
        }
      ]
    },
    {
      "cell_type": "markdown",
      "source": [
        "Python Operators"
      ],
      "metadata": {
        "id": "rHO4PAi4m_bW"
      }
    },
    {
      "cell_type": "code",
      "source": [
        "print(10+9)           #addition\n",
        "print(10-9)           #subtraction\n",
        "print(10*9)           #multiplication\n",
        "print(10/5)           #division\n",
        "10//3                 #floor division\n",
        "print(10%3)           #remainder\n",
        "print(10**2)          "
      ],
      "metadata": {
        "colab": {
          "base_uri": "https://localhost:8080/"
        },
        "id": "1QXf1GD7nEfE",
        "outputId": "0cafe3d4-2e59-461b-f862-65b4113dc39b"
      },
      "execution_count": 31,
      "outputs": [
        {
          "output_type": "stream",
          "name": "stdout",
          "text": [
            "19\n",
            "1\n",
            "90\n",
            "2.0\n",
            "1\n",
            "100\n"
          ]
        }
      ]
    },
    {
      "cell_type": "markdown",
      "source": [
        "Python Bitwise Operators"
      ],
      "metadata": {
        "id": "N5NHSz3lorWo"
      }
    },
    {
      "cell_type": "code",
      "source": [
        "e = 60\n",
        "f = 13\n",
        "(e^f)\n"
      ],
      "metadata": {
        "colab": {
          "base_uri": "https://localhost:8080/"
        },
        "id": "2LaDTJgtou7r",
        "outputId": "1f00aa00-4382-48d7-ea80-b895620b8154"
      },
      "execution_count": 35,
      "outputs": [
        {
          "output_type": "execute_result",
          "data": {
            "text/plain": [
              "49"
            ]
          },
          "metadata": {},
          "execution_count": 35
        }
      ]
    },
    {
      "cell_type": "markdown",
      "source": [
        "Python Assignment Operators"
      ],
      "metadata": {
        "id": "gcXdCLn0rdfE"
      }
    },
    {
      "cell_type": "code",
      "source": [
        "x = 4\n",
        "x+=3              #x = x+3, x = 4+3 =7\n",
        "print(\"x =\",x)"
      ],
      "metadata": {
        "colab": {
          "base_uri": "https://localhost:8080/"
        },
        "id": "ewvatB7LrhjR",
        "outputId": "558d3cfb-2085-445a-e430-15f7b9a07119"
      },
      "execution_count": 41,
      "outputs": [
        {
          "output_type": "stream",
          "name": "stdout",
          "text": [
            "x = 7\n"
          ]
        }
      ]
    },
    {
      "cell_type": "markdown",
      "source": [
        "Logical Operator"
      ],
      "metadata": {
        "id": "BGkdt7yYtXOG"
      }
    },
    {
      "cell_type": "code",
      "source": [
        "print((4>3) and (5!=5))  #and\n",
        "print((6==6) or (6!=6))  #or"
      ],
      "metadata": {
        "colab": {
          "base_uri": "https://localhost:8080/"
        },
        "id": "iW4b1yCItZnA",
        "outputId": "ae94270f-cd1a-4b56-b7cb-2d7926bac6e6"
      },
      "execution_count": 47,
      "outputs": [
        {
          "output_type": "stream",
          "name": "stdout",
          "text": [
            "False\n",
            "True\n"
          ]
        }
      ]
    },
    {
      "cell_type": "markdown",
      "source": [
        "Identify Operators"
      ],
      "metadata": {
        "id": "rb0w5LI6uTRP"
      }
    },
    {
      "cell_type": "code",
      "source": [
        "print(4 is 3)\n",
        "print(7 is not 7)"
      ],
      "metadata": {
        "colab": {
          "base_uri": "https://localhost:8080/"
        },
        "id": "3LZmK2zBuXuw",
        "outputId": "74d22df9-965e-49a5-9fad-75e30b5f73d4"
      },
      "execution_count": 48,
      "outputs": [
        {
          "output_type": "stream",
          "name": "stdout",
          "text": [
            "False\n",
            "False\n"
          ]
        }
      ]
    }
  ]
}