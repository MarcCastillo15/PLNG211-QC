{
  "nbformat": 4,
  "nbformat_minor": 0,
  "metadata": {
    "colab": {
      "provenance": [],
      "authorship_tag": "ABX9TyOwpxlCYbC7/Oub38390p7W",
      "include_colab_link": true
    },
    "kernelspec": {
      "name": "python3",
      "display_name": "Python 3"
    },
    "language_info": {
      "name": "python"
    }
  },
  "cells": [
    {
      "cell_type": "markdown",
      "metadata": {
        "id": "view-in-github",
        "colab_type": "text"
      },
      "source": [
        "<a href=\"https://colab.research.google.com/github/MarcNazareneCastillo/PLNG211-QC/blob/main/Asynchronous_Activity.ipynb\" target=\"_parent\"><img src=\"https://colab.research.google.com/assets/colab-badge.svg\" alt=\"Open In Colab\"/></a>"
      ]
    },
    {
      "cell_type": "code",
      "source": [
        "Salary_perDay = 600\n",
        "Salary = Salary_perDay * 15\n",
        "Tax = Salary * 0.3\n",
        "Total_Sal =  Salary - Tax\n",
        "print(\"His salary per day is: \", Salary_perDay)\n",
        "print(\"His salary without tax is: \", Salary)\n",
        "print(\"His tax is: \", Tax)\n",
        "print(\"The total net pay is: \",Total_Sal)\n"
      ],
      "metadata": {
        "colab": {
          "base_uri": "https://localhost:8080/"
        },
        "id": "KYEyqcEDmZAk",
        "outputId": "1f5c8cd9-1a32-4b1b-eef7-6a6e6588806b"
      },
      "execution_count": 11,
      "outputs": [
        {
          "output_type": "stream",
          "name": "stdout",
          "text": [
            "His salary per day is:  600\n",
            "His salary without tax is:  9000\n",
            "His tax is:  2700.0\n",
            "The total net pay is:  6300.0\n"
          ]
        }
      ]
    }
  ]
}