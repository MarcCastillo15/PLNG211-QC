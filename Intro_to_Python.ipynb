{
  "nbformat": 4,
  "nbformat_minor": 0,
  "metadata": {
    "colab": {
      "provenance": [],
      "authorship_tag": "ABX9TyMepV82dE0NchQM5MWPaHqW",
      "include_colab_link": true
    },
    "kernelspec": {
      "name": "python3",
      "display_name": "Python 3"
    },
    "language_info": {
      "name": "python"
    }
  },
  "cells": [
    {
      "cell_type": "markdown",
      "metadata": {
        "id": "view-in-github",
        "colab_type": "text"
      },
      "source": [
        "<a href=\"https://colab.research.google.com/github/MarcNazareneCastillo/PLNG211-QC/blob/main/Intro_to_Python.ipynb\" target=\"_parent\"><img src=\"https://colab.research.google.com/assets/colab-badge.svg\" alt=\"Open In Colab\"/></a>"
      ]
    },
    {
      "cell_type": "code",
      "execution_count": 1,
      "metadata": {
        "colab": {
          "base_uri": "https://localhost:8080/"
        },
        "id": "YPHNsbOeqXzX",
        "outputId": "7ea82dfc-8086-4094-c8bd-76e9b711e21d"
      },
      "outputs": [
        {
          "output_type": "stream",
          "name": "stdout",
          "text": [
            "Five is greater than Two!\n"
          ]
        }
      ],
      "source": [
        "if 5 > 2:\n",
        "  print(\"Five is greater than Two!\")"
      ]
    },
    {
      "cell_type": "markdown",
      "source": [
        "Python Variable "
      ],
      "metadata": {
        "id": "N1puwvpVrXzJ"
      }
    },
    {
      "cell_type": "code",
      "source": [
        "x = 1\n",
        "a, b = 0, -1\n",
        "a, b, c = 0, -1, \"Sally\"\n",
        "a = 9\n",
        "print(a)\n",
        "c = \"Danny\"\n",
        "print(c)\n"
      ],
      "metadata": {
        "colab": {
          "base_uri": "https://localhost:8080/"
        },
        "id": "X1Mk9EIdra2X",
        "outputId": "da97032e-0116-4389-c19f-1345db61b0e6"
      },
      "execution_count": 24,
      "outputs": [
        {
          "output_type": "stream",
          "name": "stdout",
          "text": [
            "9\n",
            "Danny\n"
          ]
        }
      ]
    },
    {
      "cell_type": "code",
      "source": [
        "print(c)"
      ],
      "metadata": {
        "colab": {
          "base_uri": "https://localhost:8080/"
        },
        "id": "BAS3WSU7s8Bf",
        "outputId": "8b6b9226-e587-4fe1-b022-bdcab5ec1d1e"
      },
      "execution_count": 23,
      "outputs": [
        {
          "output_type": "stream",
          "name": "stdout",
          "text": [
            "Maria\n"
          ]
        }
      ]
    },
    {
      "cell_type": "markdown",
      "source": [
        "Casting"
      ],
      "metadata": {
        "id": "37ChUiPMtVPx"
      }
    },
    {
      "cell_type": "code",
      "source": [
        "d = int(4)\n",
        "print(d)\n",
        "e = float(4)\n",
        "print(e)"
      ],
      "metadata": {
        "colab": {
          "base_uri": "https://localhost:8080/"
        },
        "id": "QnvfvivctXlA",
        "outputId": "d64318a4-2f13-44dd-d484-f73de2abd7ef"
      },
      "execution_count": 19,
      "outputs": [
        {
          "output_type": "stream",
          "name": "stdout",
          "text": [
            "4\n",
            "4.0\n"
          ]
        }
      ]
    },
    {
      "cell_type": "markdown",
      "source": [
        "Type () function\n"
      ],
      "metadata": {
        "id": "nNFAeuQQuCAl"
      }
    },
    {
      "cell_type": "code",
      "source": [
        "print(type(d))\n",
        "print(type(e))"
      ],
      "metadata": {
        "colab": {
          "base_uri": "https://localhost:8080/"
        },
        "id": "3uOpMftQuNWI",
        "outputId": "58ca7a19-5561-4ce6-d442-02806505c875"
      },
      "execution_count": 20,
      "outputs": [
        {
          "output_type": "stream",
          "name": "stdout",
          "text": [
            "<class 'int'>\n",
            "<class 'float'>\n"
          ]
        }
      ]
    },
    {
      "cell_type": "markdown",
      "source": [
        "Single Quote or Double Quote"
      ],
      "metadata": {
        "id": "mPYIm2l-vAcY"
      }
    },
    {
      "cell_type": "code",
      "source": [
        "f = \"Maria\"\n",
        "print(f)\n",
        "g = 'Ana'\n",
        "print(g)"
      ],
      "metadata": {
        "colab": {
          "base_uri": "https://localhost:8080/"
        },
        "id": "CY5h1zLNvOrY",
        "outputId": "5396d8a5-3409-4482-bd5c-8b3ced25d0a9"
      },
      "execution_count": 26,
      "outputs": [
        {
          "output_type": "stream",
          "name": "stdout",
          "text": [
            "Maria\n",
            "Ana\n"
          ]
        }
      ]
    },
    {
      "cell_type": "markdown",
      "source": [
        "Multiple Variables"
      ],
      "metadata": {
        "id": "mz5XkJwgvyra"
      }
    },
    {
      "cell_type": "code",
      "source": [
        "x,y,z = 4, 5, 6\n",
        "print(x)\n",
        "print(y)\n",
        "print([z])\n"
      ],
      "metadata": {
        "colab": {
          "base_uri": "https://localhost:8080/"
        },
        "id": "byYpPGf_v4EM",
        "outputId": "602eae5b-2f10-44c8-e352-75768f02c59f"
      },
      "execution_count": 29,
      "outputs": [
        {
          "output_type": "stream",
          "name": "stdout",
          "text": [
            "4\n",
            "5\n",
            "[6]\n"
          ]
        }
      ]
    },
    {
      "cell_type": "markdown",
      "source": [
        "One to Multiple Variables"
      ],
      "metadata": {
        "id": "NAbFaa0GwZp-"
      }
    },
    {
      "cell_type": "code",
      "source": [
        "x = y = z=\"Lilo\"\n",
        "print(x)\n",
        "print(y)\n",
        "print(z)"
      ],
      "metadata": {
        "colab": {
          "base_uri": "https://localhost:8080/"
        },
        "id": "evvb_dwmwe1G",
        "outputId": "8cd66007-ca9f-4545-a70f-eeb12c959c63"
      },
      "execution_count": 32,
      "outputs": [
        {
          "output_type": "stream",
          "name": "stdout",
          "text": [
            "Lilo\n",
            "Lilo\n",
            "Lilo\n"
          ]
        }
      ]
    },
    {
      "cell_type": "markdown",
      "source": [
        "Output Variable using and +"
      ],
      "metadata": {
        "id": "eqphcjaEw_wi"
      }
    },
    {
      "cell_type": "code",
      "source": [
        "s = \"Python is\"\n",
        "t = \"enjoying\"\n",
        "print(\"Python is\"+\" \"+t)\n",
        "print(s+\" \" +t)"
      ],
      "metadata": {
        "colab": {
          "base_uri": "https://localhost:8080/"
        },
        "id": "XjKoaOsyxPms",
        "outputId": "d3d1830b-e38e-4cb9-f2e8-7b3625cbb044"
      },
      "execution_count": 39,
      "outputs": [
        {
          "output_type": "stream",
          "name": "stdout",
          "text": [
            "Python is enjoying\n",
            "Python is enjoying\n"
          ]
        }
      ]
    },
    {
      "cell_type": "markdown",
      "source": [
        "Arithmetic"
      ],
      "metadata": {
        "id": "S-7XhTbkyj_T"
      }
    },
    {
      "cell_type": "code",
      "source": [
        "x = 1\n",
        "y = 2\n",
        "sum = x + y\n",
        "x\n",
        "y\n",
        "sum\n",
        "print(x)\n",
        "\n",
        "#modulo\n",
        "l = 4%2\n",
        "print(\"4%2=\", l)\n",
        "\n",
        "#floor division\n",
        "k= 4//2\n",
        "print(\"4//2=\", k)"
      ],
      "metadata": {
        "colab": {
          "base_uri": "https://localhost:8080/"
        },
        "id": "ZJEF4hQkyn6j",
        "outputId": "5c6e0868-c475-49af-f8d4-31a5f0f2d10e"
      },
      "execution_count": 45,
      "outputs": [
        {
          "output_type": "stream",
          "name": "stdout",
          "text": [
            "1\n",
            "4%2= 0\n",
            "4//2= 2\n"
          ]
        }
      ]
    }
  ]
}