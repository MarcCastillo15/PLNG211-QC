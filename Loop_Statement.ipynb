{
  "nbformat": 4,
  "nbformat_minor": 0,
  "metadata": {
    "colab": {
      "provenance": [],
      "authorship_tag": "ABX9TyNLaTkn0QTUb0W3dBsh+ImK",
      "include_colab_link": true
    },
    "kernelspec": {
      "name": "python3",
      "display_name": "Python 3"
    },
    "language_info": {
      "name": "python"
    }
  },
  "cells": [
    {
      "cell_type": "markdown",
      "metadata": {
        "id": "view-in-github",
        "colab_type": "text"
      },
      "source": [
        "<a href=\"https://colab.research.google.com/github/MarcNazareneCastillo/PLNG211-QC/blob/main/Loop_Statement.ipynb\" target=\"_parent\"><img src=\"https://colab.research.google.com/assets/colab-badge.svg\" alt=\"Open In Colab\"/></a>"
      ]
    },
    {
      "cell_type": "code",
      "execution_count": 1,
      "metadata": {
        "colab": {
          "base_uri": "https://localhost:8080/"
        },
        "id": "baYe1mjqAdcX",
        "outputId": "a2903360-53bf-4cee-e5a5-d1ead806bc92"
      },
      "outputs": [
        {
          "output_type": "stream",
          "name": "stdout",
          "text": [
            "1\n",
            "2\n",
            "3\n"
          ]
        }
      ],
      "source": [
        "#break statement\n",
        "i=1\n",
        "while i<6:\n",
        "  print(i)\n",
        "  if i==3:\n",
        "    break\n",
        "  i+=1      #increment, i=i+1"
      ]
    },
    {
      "cell_type": "code",
      "source": [
        "#break statement Application 1\n",
        "# Display only 3 after using break statement\n",
        "\n",
        "i = 1\n",
        "while i<6:\n",
        "  if i==3:\n",
        "    print(i)\n",
        "    break\n",
        "  i+=1"
      ],
      "metadata": {
        "colab": {
          "base_uri": "https://localhost:8080/"
        },
        "id": "zt_i5DkuAgCG",
        "outputId": "59ad331b-188f-45c1-ee14-bdfa6654d78b"
      },
      "execution_count": 3,
      "outputs": [
        {
          "output_type": "stream",
          "name": "stdout",
          "text": [
            "3\n"
          ]
        }
      ]
    },
    {
      "cell_type": "code",
      "source": [
        "#continue statement\n",
        "i=0\n",
        "while i<6:\n",
        "  i+=1\n",
        "  if i==3:\n",
        "    continue\n",
        "  print(i)"
      ],
      "metadata": {
        "colab": {
          "base_uri": "https://localhost:8080/"
        },
        "id": "txJLH8rpAk7Q",
        "outputId": "64627eb3-d21a-45f8-ac76-74312f1d52d7"
      },
      "execution_count": 4,
      "outputs": [
        {
          "output_type": "stream",
          "name": "stdout",
          "text": [
            "1\n",
            "2\n",
            "4\n",
            "5\n",
            "6\n"
          ]
        }
      ]
    },
    {
      "cell_type": "code",
      "source": [
        "#else statement\n",
        "i=1\n",
        "while i<6:\n",
        "  print(i)\n",
        "  i+=1\n",
        "else:\n",
        "  print(\"i is no longer less than 6\")"
      ],
      "metadata": {
        "colab": {
          "base_uri": "https://localhost:8080/"
        },
        "id": "1SRYftxnAnia",
        "outputId": "37768c85-219f-483a-f700-836e1ce715fd"
      },
      "execution_count": 5,
      "outputs": [
        {
          "output_type": "stream",
          "name": "stdout",
          "text": [
            "1\n",
            "2\n",
            "3\n",
            "4\n",
            "5\n",
            "i is no longer less than 6\n"
          ]
        }
      ]
    },
    {
      "cell_type": "code",
      "source": [
        "#Application 2\n",
        "i=0\n",
        "while i <= 10:\n",
        "  print(\"Hello \", +i)\n",
        "  i+=1 "
      ],
      "metadata": {
        "colab": {
          "base_uri": "https://localhost:8080/"
        },
        "id": "HBnsyJF8ApMl",
        "outputId": "34a5004e-4131-48b1-86a4-faa598feb3f6"
      },
      "execution_count": 6,
      "outputs": [
        {
          "output_type": "stream",
          "name": "stdout",
          "text": [
            "Hello  0\n",
            "Hello  1\n",
            "Hello  2\n",
            "Hello  3\n",
            "Hello  4\n",
            "Hello  5\n",
            "Hello  6\n",
            "Hello  7\n",
            "Hello  8\n",
            "Hello  9\n",
            "Hello  10\n"
          ]
        }
      ]
    },
    {
      "cell_type": "code",
      "source": [
        "#Application 3\n",
        "for i in range(3,10):\n",
        "  print(i)\n",
        "\n",
        "i=9\n",
        "while i<10 and i>=3:\n",
        "  print(i)\n",
        "  i-=1"
      ],
      "metadata": {
        "colab": {
          "base_uri": "https://localhost:8080/"
        },
        "id": "7Pe37mfjAqvU",
        "outputId": "2bd82136-af42-4494-dbe0-70fa507ba15c"
      },
      "execution_count": 7,
      "outputs": [
        {
          "output_type": "stream",
          "name": "stdout",
          "text": [
            "3\n",
            "4\n",
            "5\n",
            "6\n",
            "7\n",
            "8\n",
            "9\n",
            "9\n",
            "8\n",
            "7\n",
            "6\n",
            "5\n",
            "4\n",
            "3\n"
          ]
        }
      ]
    }
  ]
}